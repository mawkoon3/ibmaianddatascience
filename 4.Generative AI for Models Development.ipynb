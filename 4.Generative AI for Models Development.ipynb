{
  "metadata": {
    "kernelspec": {
      "name": "python",
      "display_name": "Python (Pyodide)",
      "language": "python"
    },
    "language_info": {
      "codemirror_mode": {
        "name": "python",
        "version": 3
      },
      "file_extension": ".py",
      "mimetype": "text/x-python",
      "name": "python",
      "nbconvert_exporter": "python",
      "pygments_lexer": "ipython3",
      "version": "3.8"
    },
    "prev_pub_hash": "def6c2b16be03b8590d636aa576bdaff4206d1ae9e8a5ace4be932c0f896e5bb"
  },
  "nbformat_minor": 4,
  "nbformat": 4,
  "cells": [
    {
      "cell_type": "markdown",
      "source": "<p style=\"text-align:center\">\n    <a href=\"https://skills.network\" target=\"_blank\">\n    <img src=\"https://cf-courses-data.s3.us.cloud-object-storage.appdomain.cloud/assets/logos/SN_web_lightmode.png\" width=\"300\" alt=\"Skills Network Logo\">\n    </a>\n</p>\n",
      "metadata": {}
    },
    {
      "cell_type": "markdown",
      "source": "# Test Environment for Generative AI classroom labs\n\nThis lab provides a test environment for the codes generated using the Generative AI classroom.\n\nFollow the instructions below to set up this environment for further use.\n",
      "metadata": {}
    },
    {
      "cell_type": "markdown",
      "source": "# Setup\n",
      "metadata": {}
    },
    {
      "cell_type": "markdown",
      "source": "### Install required libraries\n\nIn case of a requirement of installing certain python libraries for use in your task, you may do so as shown below.\n",
      "metadata": {}
    },
    {
      "cell_type": "code",
      "source": "%pip install seaborn\nimport piplite\n\nawait piplite.install(['nbformat', 'plotly'])",
      "metadata": {
        "trusted": true
      },
      "outputs": [],
      "execution_count": 7
    },
    {
      "cell_type": "markdown",
      "source": "### Dataset URL from the GenAI lab\nUse the URL provided in the GenAI lab in the cell below. \n",
      "metadata": {}
    },
    {
      "cell_type": "code",
      "source": "URL = \"https://cf-courses-data.s3.us.cloud-object-storage.appdomain.cloud/IBMDeveloperSkillsNetwork-DA0101EN-Coursera/laptop_pricing_dataset_mod2.csv\"",
      "metadata": {
        "trusted": true
      },
      "outputs": [],
      "execution_count": 8
    },
    {
      "cell_type": "markdown",
      "source": "### Downloading the dataset\n\nExecute the following code to download the dataset in to the interface.\n\n> Please note that this step is essential in JupyterLite. If you are using a downloaded version of this notebook and running it on JupyterLabs, then you can skip this step and directly use the URL in pandas.read_csv() function to read the dataset as a dataframe\n",
      "metadata": {}
    },
    {
      "cell_type": "code",
      "source": "from pyodide.http import pyfetch\n\nasync def download(url, filename):\n    response = await pyfetch(url)\n    if response.status == 200:\n        with open(filename, \"wb\") as f:\n            f.write(await response.bytes())\n\npath = URL\n\nawait download(path, \"dataset.csv\")\nfile_name  = \"dataset.csv\"",
      "metadata": {
        "trusted": true
      },
      "outputs": [],
      "execution_count": 9
    },
    {
      "cell_type": "markdown",
      "source": "---\n",
      "metadata": {}
    },
    {
      "cell_type": "markdown",
      "source": "# Test Environment\n",
      "metadata": {}
    },
    {
      "cell_type": "code",
      "source": "     import pandas as pd\n\n     file_path = \"dataset.csv\"\n     try:\n         df = pd.read_csv(file_path, header=0)\n         print(\"CSV loaded successfully!\")\n         print(df.head())\n     except FileNotFoundError:\n         print(f\"Error: File not found at {file_path}. Please verify the path or download the file.\")\n     except Exception as e:\n         print(f\"An error occurred: {e}\")\n     ",
      "metadata": {
        "trusted": true
      },
      "outputs": [
        {
          "name": "stdout",
          "text": "CSV loaded successfully!\n   Unnamed: 0.1  Unnamed: 0 Manufacturer  Category  GPU  OS  CPU_core  \\\n0             0           0         Acer         4    2   1         5   \n1             1           1         Dell         3    1   1         3   \n2             2           2         Dell         3    1   1         7   \n3             3           3         Dell         4    2   1         5   \n4             4           4           HP         4    2   1         7   \n\n   Screen_Size_inch  CPU_frequency  RAM_GB  Storage_GB_SSD  Weight_pounds  \\\n0              14.0       0.551724       8             256        3.52800   \n1              15.6       0.689655       4             256        4.85100   \n2              15.6       0.931034       8             256        4.85100   \n3              13.3       0.551724       8             128        2.69010   \n4              15.6       0.620690       8             256        4.21155   \n\n   Price Price-binned  Screen-Full_HD  Screen-IPS_panel  \n0    978          Low               0                 1  \n1    634          Low               1                 0  \n2    946          Low               1                 0  \n3   1244          Low               0                 1  \n4    837          Low               1                 0  \n",
          "output_type": "stream"
        }
      ],
      "execution_count": 13
    },
    {
      "cell_type": "code",
      "source": "import pandas as pd\nfrom sklearn.linear_model import LinearRegression\nfrom sklearn.metrics import mean_squared_error, r2_score\n\n# Configuration: adjust these for your data\nfile_path = \"dataset.csv\"  # CSV with header row\nfeature_col = \"feature\"  # source variable (X) - UPDATE THIS BASED ON INSPECTION\ntarget_col = \"target\"    # target variable (y) - UPDATE THIS BASED ON INSPECTION\n\n# Load data\ndf = pd.read_csv(file_path, header=0)\n\n# Inspect the DataFrame\nprint(\"DataFrame columns:\", df.columns.tolist())\nprint(\"DataFrame shape:\", df.shape)\nprint(\"First 5 rows:\")\nprint(df.head())\n\n# Prepare features and target (only if columns exist)\nif feature_col in df.columns and target_col in df.columns:\n    X = df[[feature_col]]\n    y = df[target_col]\n\n    # Train model\n    model = LinearRegression()\n    model.fit(X, y)\n\n    # Predict and evaluate\n    y_pred = model.predict(X)\n    mse = mean_squared_error(y, y_pred)\n    r2 = r2_score(y, y_pred)\n\n    # Output results\n    print(\"MSE:\", mse)\n    print(\"R^2:\", r2)\nelse:\n    print(f\"Error: Columns '{feature_col}' or '{target_col}' not found. Please update the column names in the configuration.\")",
      "metadata": {
        "trusted": true
      },
      "outputs": [
        {
          "name": "stdout",
          "text": "DataFrame columns: ['Unnamed: 0.1', 'Unnamed: 0', 'Manufacturer', 'Category', 'GPU', 'OS', 'CPU_core', 'Screen_Size_inch', 'CPU_frequency', 'RAM_GB', 'Storage_GB_SSD', 'Weight_pounds', 'Price', 'Price-binned', 'Screen-Full_HD', 'Screen-IPS_panel']\nDataFrame shape: (238, 16)\nFirst 5 rows:\n   Unnamed: 0.1  Unnamed: 0 Manufacturer  Category  GPU  OS  CPU_core  \\\n0             0           0         Acer         4    2   1         5   \n1             1           1         Dell         3    1   1         3   \n2             2           2         Dell         3    1   1         7   \n3             3           3         Dell         4    2   1         5   \n4             4           4           HP         4    2   1         7   \n\n   Screen_Size_inch  CPU_frequency  RAM_GB  Storage_GB_SSD  Weight_pounds  \\\n0              14.0       0.551724       8             256        3.52800   \n1              15.6       0.689655       4             256        4.85100   \n2              15.6       0.931034       8             256        4.85100   \n3              13.3       0.551724       8             128        2.69010   \n4              15.6       0.620690       8             256        4.21155   \n\n   Price Price-binned  Screen-Full_HD  Screen-IPS_panel  \n0    978          Low               0                 1  \n1    634          Low               1                 0  \n2    946          Low               1                 0  \n3   1244          Low               0                 1  \n4    837          Low               1                 0  \nError: Columns 'feature' or 'target' not found. Please update the column names in the configuration.\n",
          "output_type": "stream"
        }
      ],
      "execution_count": 16
    },
    {
      "cell_type": "code",
      "source": "import pandas as pd\nfrom sklearn.linear_model import LinearRegression\nfrom sklearn.metrics import mean_squared_error, r2_score\n\n# Configuration: adjust these for your data\nfile_path = \"dataset.csv\"  # CSV with header row\nfeature_col = \"feature\"  # source variable (X) - UPDATE THIS TO THE ACTUAL COLUMN NAME FROM YOUR CSV\ntarget_col = \"target\"    # target variable (y) - UPDATE THIS TO THE ACTUAL COLUMN NAME FROM YOUR CSV\n\n# Load data\ndf = pd.read_csv(file_path, header=0)\n\n# Inspect the DataFrame (run this first to see column names)\nprint(\"DataFrame columns:\", df.columns.tolist())\nprint(\"DataFrame shape:\", df.shape)\nprint(\"First 5 rows:\")\nprint(df.head())\n\n# Prepare features and target (only if columns exist)\nif feature_col in df.columns and target_col in df.columns:\n    X = df[[feature_col]]\n    y = df[target_col]\n\n    # Train model\n    model = LinearRegression()\n    model.fit(X, y)\n\n    # Predict and evaluate\n    y_pred = model.predict(X)\n    mse = mean_squared_error(y, y_pred)\n    r2 = r2_score(y, y_pred)\n\n    # Output results\n    print(\"MSE:\", mse)\n    print(\"R^2:\", r2)\nelse:\n    print(f\"Error: Columns '{feature_col}' or '{target_col}' not found. Please update the column names in the configuration above based on the printed columns.\")\n",
      "metadata": {
        "trusted": true
      },
      "outputs": [
        {
          "name": "stdout",
          "text": "DataFrame columns: ['Unnamed: 0.1', 'Unnamed: 0', 'Manufacturer', 'Category', 'GPU', 'OS', 'CPU_core', 'Screen_Size_inch', 'CPU_frequency', 'RAM_GB', 'Storage_GB_SSD', 'Weight_pounds', 'Price', 'Price-binned', 'Screen-Full_HD', 'Screen-IPS_panel']\nDataFrame shape: (238, 16)\nFirst 5 rows:\n   Unnamed: 0.1  Unnamed: 0 Manufacturer  Category  GPU  OS  CPU_core  \\\n0             0           0         Acer         4    2   1         5   \n1             1           1         Dell         3    1   1         3   \n2             2           2         Dell         3    1   1         7   \n3             3           3         Dell         4    2   1         5   \n4             4           4           HP         4    2   1         7   \n\n   Screen_Size_inch  CPU_frequency  RAM_GB  Storage_GB_SSD  Weight_pounds  \\\n0              14.0       0.551724       8             256        3.52800   \n1              15.6       0.689655       4             256        4.85100   \n2              15.6       0.931034       8             256        4.85100   \n3              13.3       0.551724       8             128        2.69010   \n4              15.6       0.620690       8             256        4.21155   \n\n   Price Price-binned  Screen-Full_HD  Screen-IPS_panel  \n0    978          Low               0                 1  \n1    634          Low               1                 0  \n2    946          Low               1                 0  \n3   1244          Low               0                 1  \n4    837          Low               1                 0  \nError: Columns 'feature' or 'target' not found. Please update the column names in the configuration above based on the printed columns.\n",
          "output_type": "stream"
        }
      ],
      "execution_count": 18
    },
    {
      "cell_type": "code",
      "source": "import pandas as pd\nfrom sklearn.preprocessing import PolynomialFeatures\nfrom sklearn.linear_model import LinearRegression\nfrom sklearn.metrics import mean_squared_error, r2_score\n\n# Configuration: adjust file path and column names as needed\nfile_path = \"dataset.csv\"  # CSV with header row\nfeature_col = \"feature\"  # source variable (X) - UPDATE THIS TO THE ACTUAL COLUMN NAME FROM YOUR CSV\ntarget_col = \"target\"    # target variable (y) - UPDATE THIS TO THE ACTUAL COLUMN NAME FROM YOUR CSV\n\n# Load data\ndf = pd.read_csv(file_path, header=0)\n\n# Inspect the DataFrame (run this first to see column names)\nprint(\"DataFrame columns:\", df.columns.tolist())\nprint(\"DataFrame shape:\", df.shape)\nprint(\"First 5 rows:\")\nprint(df.head())\n\n# Prepare single-feature input (only if columns exist)\nif feature_col in df.columns and target_col in df.columns:\n    X = df[[feature_col]]\n    y = df[target_col]\n\n    # Degrees for polynomial regression\n    degrees = [2, 3, 5]\n    results = []\n\n    for degree in degrees:\n        # Generate polynomial features for the single input feature\n        poly = PolynomialFeatures(degree=degree, include_bias=False)\n        X_poly = poly.fit_transform(X)\n\n        # Train linear regression on the expanded features\n        model = LinearRegression()\n        model.fit(X_poly, y)\n\n        # Evaluate on training data\n        y_pred = model.predict(X_poly)\n        mse = mean_squared_error(y, y_pred)\n        r2 = r2_score(y, y_pred)\n\n        results.append({\"degree\": degree, \"mse\": mse, \"r2\": r2})\n\n    # Best model by R^2\n    best = max(results, key=lambda r: r[\"r2\"])\n\n    # Display results\n    print(\"Results by degree:\")\n    for r in results:\n        print(f\"Degree {r['degree']}: MSE={r['mse']:.6f}, R2={r['r2']:.6f}\")\n    print(\"Best model: degree\", best[\"degree\"], \"R2=\", best[\"r2\"])\nelse:\n    print(f\"Error: Columns '{feature_col}' or '{target_col}' not found. Please update the column names in the configuration above based on the printed columns.\")\n",
      "metadata": {
        "trusted": true
      },
      "outputs": [
        {
          "name": "stdout",
          "text": "DataFrame columns: ['Unnamed: 0.1', 'Unnamed: 0', 'Manufacturer', 'Category', 'GPU', 'OS', 'CPU_core', 'Screen_Size_inch', 'CPU_frequency', 'RAM_GB', 'Storage_GB_SSD', 'Weight_pounds', 'Price', 'Price-binned', 'Screen-Full_HD', 'Screen-IPS_panel']\nDataFrame shape: (238, 16)\nFirst 5 rows:\n   Unnamed: 0.1  Unnamed: 0 Manufacturer  Category  GPU  OS  CPU_core  \\\n0             0           0         Acer         4    2   1         5   \n1             1           1         Dell         3    1   1         3   \n2             2           2         Dell         3    1   1         7   \n3             3           3         Dell         4    2   1         5   \n4             4           4           HP         4    2   1         7   \n\n   Screen_Size_inch  CPU_frequency  RAM_GB  Storage_GB_SSD  Weight_pounds  \\\n0              14.0       0.551724       8             256        3.52800   \n1              15.6       0.689655       4             256        4.85100   \n2              15.6       0.931034       8             256        4.85100   \n3              13.3       0.551724       8             128        2.69010   \n4              15.6       0.620690       8             256        4.21155   \n\n   Price Price-binned  Screen-Full_HD  Screen-IPS_panel  \n0    978          Low               0                 1  \n1    634          Low               1                 0  \n2    946          Low               1                 0  \n3   1244          Low               0                 1  \n4    837          Low               1                 0  \nError: Columns 'feature' or 'target' not found. Please update the column names in the configuration above based on the printed columns.\n",
          "output_type": "stream"
        }
      ],
      "execution_count": 23
    },
    {
      "cell_type": "code",
      "source": "import pandas as pd\nfrom sklearn.pipeline import Pipeline\nfrom sklearn.preprocessing import StandardScaler, PolynomialFeatures\nfrom sklearn.linear_model import LinearRegression\nfrom sklearn.metrics import mean_squared_error, r2_score\n\n# Configuration: adjust as needed\nfile_path = \"dataset.csv\"  # CSV with header row\ntarget_col = \"Price\"  # name of the target column\n\n# Load data\ndf = pd.read_csv(file_path, header=0)\n\n# Inspect the DataFrame (optional, but helpful to confirm columns)\nprint(\"DataFrame columns:\", df.columns.tolist())\nprint(\"DataFrame shape:\", df.shape)\nprint(\"First 5 rows:\")\nprint(df.head())\n\n# Drop unnecessary columns (e.g., index-like columns)\ndf = df.drop(columns=['Unnamed: 0.1', 'Unnamed: 0'], errors='ignore')  # Adjust if needed\n\n# Handle categorical columns: One-hot encode them\n# Identify categorical columns (non-numeric)\ncategorical_cols = df.select_dtypes(include=['object']).columns.tolist()\nif categorical_cols:\n    df = pd.get_dummies(df, columns=categorical_cols, drop_first=True)\n    print(\"Categorical columns encoded:\", categorical_cols)\n\n# Validate columns\nif target_col not in df.columns:\n    raise ValueError(f\"Target column '{target_col}' not found in data. Columns: {list(df.columns)}\")\nfeature_cols = df.columns.drop(target_col)\nif len(feature_cols) == 0:\n    raise ValueError(\"No feature columns found besides the target column.\")\nX = df[feature_cols]\ny = df[target_col]\n\n# Ensure X is numeric (should be after encoding)\nprint(\"Feature columns (after encoding):\", feature_cols)\nprint(\"X dtypes:\", X.dtypes)\n\n# Create a pipeline: scale features, generate polynomial features, then fit linear regression\npipeline = Pipeline([\n    (\"scaler\", StandardScaler()),\n    (\"poly\", PolynomialFeatures(degree=2, include_bias=False)),\n    (\"model\", LinearRegression())\n])\n\n# Train model\npipeline.fit(X, y)\n\n# Evaluate on training data\ny_pred = pipeline.predict(X)\nmse = mean_squared_error(y, y_pred)\nr2 = r2_score(y, y_pred)\n\nprint(\"MSE:\", mse)\nprint(\"R^2:\", r2)\n",
      "metadata": {
        "trusted": true
      },
      "outputs": [
        {
          "name": "stdout",
          "text": "DataFrame columns: ['Unnamed: 0.1', 'Unnamed: 0', 'Manufacturer', 'Category', 'GPU', 'OS', 'CPU_core', 'Screen_Size_inch', 'CPU_frequency', 'RAM_GB', 'Storage_GB_SSD', 'Weight_pounds', 'Price', 'Price-binned', 'Screen-Full_HD', 'Screen-IPS_panel']\nDataFrame shape: (238, 16)\nFirst 5 rows:\n   Unnamed: 0.1  Unnamed: 0 Manufacturer  Category  GPU  OS  CPU_core  \\\n0             0           0         Acer         4    2   1         5   \n1             1           1         Dell         3    1   1         3   \n2             2           2         Dell         3    1   1         7   \n3             3           3         Dell         4    2   1         5   \n4             4           4           HP         4    2   1         7   \n\n   Screen_Size_inch  CPU_frequency  RAM_GB  Storage_GB_SSD  Weight_pounds  \\\n0              14.0       0.551724       8             256        3.52800   \n1              15.6       0.689655       4             256        4.85100   \n2              15.6       0.931034       8             256        4.85100   \n3              13.3       0.551724       8             128        2.69010   \n4              15.6       0.620690       8             256        4.21155   \n\n   Price Price-binned  Screen-Full_HD  Screen-IPS_panel  \n0    978          Low               0                 1  \n1    634          Low               1                 0  \n2    946          Low               1                 0  \n3   1244          Low               0                 1  \n4    837          Low               1                 0  \nCategorical columns encoded: ['Manufacturer', 'Price-binned']\nFeature columns (after encoding): Index(['Category', 'GPU', 'OS', 'CPU_core', 'Screen_Size_inch',\n       'CPU_frequency', 'RAM_GB', 'Storage_GB_SSD', 'Weight_pounds',\n       'Screen-Full_HD', 'Screen-IPS_panel', 'Manufacturer_Asus',\n       'Manufacturer_Dell', 'Manufacturer_HP', 'Manufacturer_Huawei',\n       'Manufacturer_Lenovo', 'Manufacturer_MSI', 'Manufacturer_Razer',\n       'Manufacturer_Samsung', 'Manufacturer_Toshiba', 'Manufacturer_Xiaomi',\n       'Price-binned_Low', 'Price-binned_Medium'],\n      dtype='object')\nX dtypes: Category                  int64\nGPU                       int64\nOS                        int64\nCPU_core                  int64\nScreen_Size_inch        float64\nCPU_frequency           float64\nRAM_GB                    int64\nStorage_GB_SSD            int64\nWeight_pounds           float64\nScreen-Full_HD            int64\nScreen-IPS_panel          int64\nManufacturer_Asus          bool\nManufacturer_Dell          bool\nManufacturer_HP            bool\nManufacturer_Huawei        bool\nManufacturer_Lenovo        bool\nManufacturer_MSI           bool\nManufacturer_Razer         bool\nManufacturer_Samsung       bool\nManufacturer_Toshiba       bool\nManufacturer_Xiaomi        bool\nPrice-binned_Low           bool\nPrice-binned_Medium        bool\ndtype: object\nMSE: 15942.239402963334\nR^2: 0.9515119122696438\n",
          "output_type": "stream"
        }
      ],
      "execution_count": 29
    },
    {
      "cell_type": "code",
      "source": "import pandas as pd\nfrom sklearn.model_selection import GridSearchCV\nfrom sklearn.pipeline import Pipeline\nfrom sklearn.compose import ColumnTransformer\nfrom sklearn.preprocessing import PolynomialFeatures, OneHotEncoder\nfrom sklearn.linear_model import Ridge\nfrom sklearn.metrics import mean_squared_error, r2_score\n\nfile_path = \"dataset.csv\"\ntarget_col = \"Price\"  # UPDATED: Use the actual target column name from your data\n\ndf = pd.read_csv(file_path, header=0)\n\n# Inspect the DataFrame (run this to confirm columns)\nprint(\"DataFrame columns:\", df.columns.tolist())\nprint(\"First 5 rows:\")\nprint(df.head())\n\n# Drop unnecessary columns if present\ndf = df.drop(columns=['Unnamed: 0.1', 'Unnamed: 0'], errors='ignore')\n\n# Validate target column\nif target_col not in df.columns:\n    raise ValueError(f\"Target column '{target_col}' not found. Available columns: {list(df.columns)}\")\n\n# Separate features and target\nfeature_cols = df.columns.drop(target_col).tolist()\nX = df[feature_cols]\ny = df[target_col]\n\n# Identify numeric and categorical columns for preprocessing\nnumeric_cols = X.select_dtypes(include=['number']).columns.tolist()\ncategorical_cols = X.select_dtypes(include=['object']).columns.tolist()\n\n# Select first 2 numeric columns for polynomial features (adjust if needed)\npoly_features_cols = numeric_cols[:2] if len(numeric_cols) >= 2 else numeric_cols\n\n# Define preprocessor: encode categoricals, apply poly to selected numeric, passthrough others\npreprocessor = ColumnTransformer(\n    transformers=[\n        (\"poly\", PolynomialFeatures(degree=2, include_bias=False), poly_features_cols),\n        (\"cat\", OneHotEncoder(drop='first', handle_unknown='ignore'), categorical_cols),  # FIXED: Added handle_unknown='ignore' to handle new categories in CV\n        (\"passthrough\", \"passthrough\", [c for c in numeric_cols if c not in poly_features_cols])\n    ]\n)\n\npipe = Pipeline([\n    (\"preprocessor\", preprocessor),\n    (\"model\", Ridge())\n])\n\nparam_grid = {\n    \"preprocessor__poly__degree\": [2, 3],\n    \"model__alpha\": [0.1, 1.0, 10.0]\n}\n\ngrid = GridSearchCV(pipe, param_grid, cv=5, scoring=\"neg_mean_squared_error\", n_jobs=-1)\ngrid.fit(X, y)\n\nbest = grid.best_estimator_\ny_pred = best.predict(X)\nmse = mean_squared_error(y, y_pred)\nr2 = r2_score(y, y_pred)\n\nprint(\"MSE:\", mse)\nprint(\"R^2:\", r2)\nprint(\"Best params:\", grid.best_params_)\n",
      "metadata": {
        "trusted": true,
        "scrolled": true
      },
      "outputs": [
        {
          "name": "stdout",
          "text": "DataFrame columns: ['Unnamed: 0.1', 'Unnamed: 0', 'Manufacturer', 'Category', 'GPU', 'OS', 'CPU_core', 'Screen_Size_inch', 'CPU_frequency', 'RAM_GB', 'Storage_GB_SSD', 'Weight_pounds', 'Price', 'Price-binned', 'Screen-Full_HD', 'Screen-IPS_panel']\nFirst 5 rows:\n   Unnamed: 0.1  Unnamed: 0 Manufacturer  Category  GPU  OS  CPU_core  \\\n0             0           0         Acer         4    2   1         5   \n1             1           1         Dell         3    1   1         3   \n2             2           2         Dell         3    1   1         7   \n3             3           3         Dell         4    2   1         5   \n4             4           4           HP         4    2   1         7   \n\n   Screen_Size_inch  CPU_frequency  RAM_GB  Storage_GB_SSD  Weight_pounds  \\\n0              14.0       0.551724       8             256        3.52800   \n1              15.6       0.689655       4             256        4.85100   \n2              15.6       0.931034       8             256        4.85100   \n3              13.3       0.551724       8             128        2.69010   \n4              15.6       0.620690       8             256        4.21155   \n\n   Price Price-binned  Screen-Full_HD  Screen-IPS_panel  \n0    978          Low               0                 1  \n1    634          Low               1                 0  \n2    946          Low               1                 0  \n3   1244          Low               0                 1  \n4    837          Low               1                 0  \n",
          "output_type": "stream"
        },
        {
          "name": "stderr",
          "text": "/lib/python3.12/site-packages/sklearn/preprocessing/_encoders.py:241: UserWarning: Found unknown categories in columns [0] during transform. These unknown categories will be encoded as all zeros\n  warnings.warn(\n/lib/python3.12/site-packages/sklearn/preprocessing/_encoders.py:241: UserWarning: Found unknown categories in columns [0] during transform. These unknown categories will be encoded as all zeros\n  warnings.warn(\n/lib/python3.12/site-packages/sklearn/preprocessing/_encoders.py:241: UserWarning: Found unknown categories in columns [0] during transform. These unknown categories will be encoded as all zeros\n  warnings.warn(\n/lib/python3.12/site-packages/sklearn/preprocessing/_encoders.py:241: UserWarning: Found unknown categories in columns [0] during transform. These unknown categories will be encoded as all zeros\n  warnings.warn(\n/lib/python3.12/site-packages/sklearn/preprocessing/_encoders.py:241: UserWarning: Found unknown categories in columns [0] during transform. These unknown categories will be encoded as all zeros\n  warnings.warn(\n/lib/python3.12/site-packages/sklearn/preprocessing/_encoders.py:241: UserWarning: Found unknown categories in columns [0] during transform. These unknown categories will be encoded as all zeros\n  warnings.warn(\n/lib/python3.12/site-packages/sklearn/preprocessing/_encoders.py:241: UserWarning: Found unknown categories in columns [0] during transform. These unknown categories will be encoded as all zeros\n  warnings.warn(\n/lib/python3.12/site-packages/sklearn/preprocessing/_encoders.py:241: UserWarning: Found unknown categories in columns [0] during transform. These unknown categories will be encoded as all zeros\n  warnings.warn(\n/lib/python3.12/site-packages/sklearn/preprocessing/_encoders.py:241: UserWarning: Found unknown categories in columns [0] during transform. These unknown categories will be encoded as all zeros\n  warnings.warn(\n/lib/python3.12/site-packages/sklearn/preprocessing/_encoders.py:241: UserWarning: Found unknown categories in columns [0] during transform. These unknown categories will be encoded as all zeros\n  warnings.warn(\n/lib/python3.12/site-packages/sklearn/preprocessing/_encoders.py:241: UserWarning: Found unknown categories in columns [0] during transform. These unknown categories will be encoded as all zeros\n  warnings.warn(\n/lib/python3.12/site-packages/sklearn/preprocessing/_encoders.py:241: UserWarning: Found unknown categories in columns [0] during transform. These unknown categories will be encoded as all zeros\n  warnings.warn(\n/lib/python3.12/site-packages/sklearn/preprocessing/_encoders.py:241: UserWarning: Found unknown categories in columns [0] during transform. These unknown categories will be encoded as all zeros\n  warnings.warn(\n/lib/python3.12/site-packages/sklearn/preprocessing/_encoders.py:241: UserWarning: Found unknown categories in columns [0] during transform. These unknown categories will be encoded as all zeros\n  warnings.warn(\n/lib/python3.12/site-packages/sklearn/preprocessing/_encoders.py:241: UserWarning: Found unknown categories in columns [0] during transform. These unknown categories will be encoded as all zeros\n  warnings.warn(\n/lib/python3.12/site-packages/sklearn/preprocessing/_encoders.py:241: UserWarning: Found unknown categories in columns [0] during transform. These unknown categories will be encoded as all zeros\n  warnings.warn(\n/lib/python3.12/site-packages/sklearn/preprocessing/_encoders.py:241: UserWarning: Found unknown categories in columns [0] during transform. These unknown categories will be encoded as all zeros\n  warnings.warn(\n/lib/python3.12/site-packages/sklearn/preprocessing/_encoders.py:241: UserWarning: Found unknown categories in columns [0] during transform. These unknown categories will be encoded as all zeros\n  warnings.warn(\n",
          "output_type": "stream"
        },
        {
          "name": "stdout",
          "text": "MSE: 42875.20350329165\nR^2: 0.8695956962898167\nBest params: {'model__alpha': 0.1, 'preprocessor__poly__degree': 2}\n",
          "output_type": "stream"
        }
      ],
      "execution_count": 33
    },
    {
      "cell_type": "markdown",
      "source": "## Authors\n",
      "metadata": {}
    },
    {
      "cell_type": "markdown",
      "source": "[Abhishek Gagneja](https://www.linkedin.com/in/abhishek-gagneja-23051987/)\n",
      "metadata": {}
    },
    {
      "cell_type": "markdown",
      "source": "## Change Log\n",
      "metadata": {}
    },
    {
      "cell_type": "markdown",
      "source": "|Date (YYYY-MM-DD)|Version|Changed By|Change Description|\n|-|-|-|-|\n|2023-12-10|0.1|Abhishek Gagneja|Initial Draft created|\n",
      "metadata": {}
    },
    {
      "cell_type": "markdown",
      "source": "Copyright © 2023 IBM Corporation. All rights reserved.\n",
      "metadata": {}
    }
  ]
}